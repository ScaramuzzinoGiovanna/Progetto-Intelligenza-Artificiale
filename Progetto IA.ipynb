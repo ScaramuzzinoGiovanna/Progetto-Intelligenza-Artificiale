{
 "cells": [
  {
   "cell_type": "code",
   "execution_count": 1,
   "metadata": {
    "scrolled": true
   },
   "outputs": [],
   "source": [
    "import pandas as pd\n",
    "col_names = [\"duration\",\"protocol_type\",\"service\",\"flag\",\"src_bytes\",\n",
    "    \"dst_bytes\",\"land\",\"wrong_fragment\",\"urgent\",\"hot\",\"num_failed_logins\",\n",
    "    \"logged_in\",\"num_compromised\",\"root_shell\",\"su_attempted\",\"num_root\",\n",
    "    \"num_file_creations\",\"num_shells\",\"num_access_files\",\"num_outbound_cmds\",\n",
    "    \"is_host_login\",\"is_guest_login\",\"count\",\"srv_count\",\"serror_rate\",\n",
    "    \"srv_serror_rate\",\"rerror_rate\",\"srv_rerror_rate\",\"same_srv_rate\",\n",
    "    \"diff_srv_rate\",\"srv_diff_host_rate\",\"dst_host_count\",\"dst_host_srv_count\",\n",
    "    \"dst_host_same_srv_rate\",\"dst_host_diff_srv_rate\",\"dst_host_same_src_port_rate\",\n",
    "    \"dst_host_srv_diff_host_rate\",\"dst_host_serror_rate\",\"dst_host_srv_serror_rate\",\n",
    "    \"dst_host_rerror_rate\",\"dst_host_srv_rerror_rate\",\"label\"]\n",
    "\n",
    "data_file=pd.read_csv('C:\\\\Users\\\\Scara\\\\Documents\\\\Intelligenza_Artificiale\\\\PROGETTO IA\\\\kddcup.data_10_percent_corrected', header=None, names = col_names)\n",
    "kdd_data_corrected = pd.read_csv('C:\\\\Users\\\\Scara\\\\Documents\\\\Intelligenza_Artificiale\\\\PROGETTO IA\\\\corrected', header=None, names = col_names )\n"
   ]
  },
  {
   "cell_type": "code",
   "execution_count": 2,
   "metadata": {},
   "outputs": [],
   "source": [
    "protocol_types = {\"icmp\":0, \"tcp\":1, \"udp\":2}\n",
    "\n",
    "services = {\"auth\":0, \"bgp\":1, \"courier\":2, \"csnet_ns\":3, \"ctf\":4, \"daytime\":5, \"discard\":6, \"domain\":7, \"domain_u\":8, \"echo\":9,\n",
    "            \"eco_i\":10, \"ecr_i\":11, \"efs\":12, \"exec\":13, \"finger\":14, \"ftp\":15, \"ftp_data\":16, \"gopher\":17, \"hostnames\":18,\n",
    "            \"http\":19, \"http_443\":20, \"imap4\":21, \"IRC\":22, \"iso_tsap\":23, \"klogin\":24, \"kshell\":25, \"ldap\":26, \"link\":27,\n",
    "            \"login\":28, \"mtp\":29, \"name\":30, \"netbios_dgm\":31, \"netbios_ns\":32, \"netbios_ssn\":33, \"netstat\":34, \"nnsp\":35,\n",
    "            \"nntp\":36, \"ntp_u\":37, \"other\":38, \"pm_dump\":39, \"pop_2\":40, \"pop_3\":41, \"printer\":42, \"private\":43, \"red_i\":44,\n",
    "            \"remote_job\":45, \"rje\":46, \"shell\":47, \"smtp\":48, \"sql_net\":49, \"ssh\":50, \"sunrpc\":51, \"supdup\":52, \"systat\":53,\n",
    "            \"telnet\":54, \"tftp_u\":55, \"time\":56, \"tim_i\":57, \"urh_i\":58, \"urp_i\":59, \"uucp\":60, \"uucp_path\":61, \"vmnet\":62,\n",
    "            \"whois\":63, \"X11\":64, \"Z39_50\":65, 'icmp':66}\n",
    "\n",
    "flags = {\"OTH\":0,\"REJ\":1,\"RSTO\":2,\"RSTOS0\":3,\"RSTR\":4,\"S0\":5,\"S1\":6,\"S2\":7,\"S3\":8,\"SF\":9,\"SH\":10}\n",
    "\n",
    "labels={'normal.':0, 'snmpgetattack.':1, 'named.':2, 'xlock.' :3, 'smurf.':4, 'ipsweep.':5,'multihop.':6, 'xsnoop.':7,\n",
    "        'sendmail.':8, 'guess_passwd.' :9, 'saint.':11,'buffer_overflow.':12, 'portsweep.':13, 'pod.':14, 'apache2.':15,\n",
    "        'phf.':16, 'udpstorm.':17, 'warezmaster.':18, 'perl.':19, 'satan.':20, 'xterm.':21, 'mscan.':22, 'processtable.':23, \n",
    "        'ps.':24,'nmap.':25, 'rootkit.':26, 'neptune.':27, 'loadmodule.':28, 'imap.':29, 'back.':30, 'httptunnel.':31,\n",
    "        'worm.':32, 'mailbomb.':33, 'ftp_write.':34, 'teardrop.':35, 'land.':36, 'sqlattack.':37,'snmpguess.':38, 'spy.':39,'warezclient.':40}\n",
    "\n",
    "\n",
    "#associa le label_test alle classi\n",
    "dict={ 0:'Normal', 1:'R2L', 2:'R2L', 3:'R2L', 4:'DOS', 5:'Probe', 6:'R2L', 7:'R2L',\n",
    "        8:'R2L', 9:'R2L', 11:'Probe',12:'U2R', 13:'Probe', 14:'DOS', 15:'DOS',\n",
    "        16:'R2L', 17:'DOS', 18:'R2L', 19:'U2R', 20:'Probe', 21:'U2R', 22:'Probe', 23:'DOS', \n",
    "        24:'U2R', 25:'Probe', 26:'U2R', 27:'DOS', 28:'U2R', 29:'R2L', 30:'DOS', 31:'U2R',\n",
    "        32:'R2L', 33:'DOS', 34:'R2L', 35:'DOS', 36:'DOS', 37:'U2R',38:'R2L', 39:'R2L',40:'R2L'}\n",
    "\n",
    "classes={'DOS':1, 'U2R':2, 'R2L':3,'Probe':4, 'Normal':5}"
   ]
  },
  {
   "cell_type": "code",
   "execution_count": 3,
   "metadata": {},
   "outputs": [],
   "source": [
    "import numpy as np\n",
    "def to_matrix(dataset):\n",
    "    return np.asmatrix(dataset)  "
   ]
  },
  {
   "cell_type": "code",
   "execution_count": 4,
   "metadata": {
    "scrolled": true
   },
   "outputs": [
    {
     "name": "stdout",
     "output_type": "stream",
     "text": [
      "[[0 'udp' 'private' ... 0.0 0.0 'normal.']\n",
      " [0 'udp' 'private' ... 0.0 0.0 'normal.']\n",
      " [0 'udp' 'private' ... 0.0 0.0 'normal.']\n",
      " ...\n",
      " [0 'udp' 'private' ... 0.0 0.0 'normal.']\n",
      " [0 'udp' 'private' ... 0.0 0.0 'normal.']\n",
      " [0 'udp' 'private' ... 0.0 0.0 'normal.']]\n"
     ]
    }
   ],
   "source": [
    "kdd_data_corrected1=to_matrix(kdd_data_corrected)  \n",
    "print(kdd_data_corrected1)\n"
   ]
  },
  {
   "cell_type": "code",
   "execution_count": 5,
   "metadata": {},
   "outputs": [
    {
     "name": "stdout",
     "output_type": "stream",
     "text": [
      "[[0 'tcp' 'http' ... 0.0 0.0 'normal.']\n",
      " [0 'tcp' 'http' ... 0.0 0.0 'normal.']\n",
      " [0 'tcp' 'http' ... 0.0 0.0 'normal.']\n",
      " ...\n",
      " [0 'tcp' 'http' ... 0.0 0.0 'normal.']\n",
      " [0 'tcp' 'http' ... 0.0 0.0 'normal.']\n",
      " [0 'tcp' 'http' ... 0.0 0.0 'normal.']]\n"
     ]
    }
   ],
   "source": [
    "data_file1=to_matrix(data_file)\n",
    "print(data_file1)"
   ]
  },
  {
   "cell_type": "code",
   "execution_count": 6,
   "metadata": {},
   "outputs": [],
   "source": [
    "X_test=[]\n",
    "\n",
    "for row in range(0,311029):\n",
    "    X1=[]\n",
    "    for col in range(0,41):\n",
    "        tmp=kdd_data_corrected1[row,col]\n",
    "        if col==1 :\n",
    "            X1.append(protocol_types[tmp])\n",
    "        elif col==2:\n",
    "            X1.append(services[tmp])\n",
    "        elif col==3:\n",
    "            X1.append(flags[tmp])\n",
    "        else:\n",
    "            X1.append(tmp)\n",
    "    X_test.append(X1)\n",
    "#print(X_test)"
   ]
  },
  {
   "cell_type": "code",
   "execution_count": 7,
   "metadata": {},
   "outputs": [],
   "source": [
    "y_test=[]\n",
    "\n",
    "for row in range(0,311029):\n",
    "    tmp=kdd_data_corrected.loc[row]['label']\n",
    "    y_test.append(labels[tmp])\n",
    "    \n",
    "#print(y_test)"
   ]
  },
  {
   "cell_type": "code",
   "execution_count": 8,
   "metadata": {},
   "outputs": [],
   "source": [
    "X_train=[]\n",
    "\n",
    "for row in range(0,494021):\n",
    "    X1=[]\n",
    "    for col in range(0,41): \n",
    "        tmp=data_file1[row,col]\n",
    "        if col==1 :\n",
    "            X1.append(protocol_types[tmp])\n",
    "        elif col==2:\n",
    "            X1.append(services[tmp])\n",
    "        elif col==3:\n",
    "            X1.append(flags[tmp])\n",
    "        else:\n",
    "            X1.append(tmp)\n",
    "    X_train.append(X1)\n",
    "\n",
    "#print(X_train)"
   ]
  },
  {
   "cell_type": "code",
   "execution_count": 9,
   "metadata": {},
   "outputs": [],
   "source": [
    "y_train=[]\n",
    "\n",
    "for row in range(0, 494021):\n",
    "    tmp=data_file.loc[row]['label']\n",
    "    y_train.append(labels[tmp])\n",
    "\n",
    "#print(y_train)"
   ]
  },
  {
   "cell_type": "code",
   "execution_count": 10,
   "metadata": {},
   "outputs": [
    {
     "name": "stdout",
     "output_type": "stream",
     "text": [
      "Accuracy of Decision Tree classifier on train set after classification:100.00%\n"
     ]
    }
   ],
   "source": [
    "#dopo\n",
    "from sklearn.tree import DecisionTreeClassifier\n",
    "from sklearn.metrics import accuracy_score\n",
    "\n",
    "classifier= DecisionTreeClassifier(criterion='entropy')\n",
    "model=classifier.fit(X_train, y_train)\n",
    "pred_test=classifier.predict(X_test)\n",
    "pred_train=classifier.predict(X_train)\n",
    "\n",
    "print(\"Accuracy of Decision Tree classifier on train set after classification:%.2f%%\" % (100*(accuracy_score(y_train,pred_train))))"
   ]
  },
  {
   "cell_type": "code",
   "execution_count": 11,
   "metadata": {},
   "outputs": [
    {
     "name": "stdout",
     "output_type": "stream",
     "text": [
      "[5. 5. 5. ... 5. 5. 5.]\n"
     ]
    }
   ],
   "source": [
    "pred1=[]\n",
    "\n",
    "for elem in pred_test:\n",
    "    tmp=dict[elem]\n",
    "    pred1=np.append(pred1,classes[tmp])\n",
    "    \n",
    "print(pred1)"
   ]
  },
  {
   "cell_type": "code",
   "execution_count": 12,
   "metadata": {},
   "outputs": [
    {
     "name": "stdout",
     "output_type": "stream",
     "text": [
      "[5. 5. 5. ... 5. 5. 5.]\n"
     ]
    }
   ],
   "source": [
    "y_test1=[]\n",
    "\n",
    "for elem in y_test:\n",
    "    tmp=dict[elem]\n",
    "    y_test1=np.append(y_test1, classes[tmp])\n",
    "    \n",
    "print(y_test1)"
   ]
  },
  {
   "cell_type": "code",
   "execution_count": 13,
   "metadata": {},
   "outputs": [
    {
     "name": "stdout",
     "output_type": "stream",
     "text": [
      "Accuracy of Decision Tree classifier on test set after classification:90.39%\n"
     ]
    }
   ],
   "source": [
    "print(\"Accuracy of Decision Tree classifier on test set after classification:%.2f%%\" % (100*accuracy_score(y_test1,pred1)))"
   ]
  },
  {
   "cell_type": "code",
   "execution_count": 14,
   "metadata": {},
   "outputs": [
    {
     "name": "stdout",
     "output_type": "stream",
     "text": [
      "[[ 60214     89      5     33    252]\n",
      " [ 12063 217321    202      1    266]\n",
      " [ 14343    994    374    471      7]\n",
      " [   188      1     24      9      6]\n",
      " [   797    161      1      0   3207]]\n"
     ]
    }
   ],
   "source": [
    "from sklearn.metrics import confusion_matrix\n",
    "cm_after = confusion_matrix(y_test1, pred1, labels=[5, 1, 3, 2, 4])\n",
    "print(cm_after)\n"
   ]
  },
  {
   "cell_type": "code",
   "execution_count": 15,
   "metadata": {},
   "outputs": [
    {
     "name": "stdout",
     "output_type": "stream",
     "text": [
      "[['99.37%.' '0.15%.' '0.01%.' '0.05%.' '0.42%.']\n",
      " ['5.25%.' '94.55%.' '0.09%.' '0.00%.' '0.12%.']\n",
      " ['88.60%.' '6.14%.' '2.31%.' '2.91%.' '0.04%.']\n",
      " ['82.46%.' '0.44%.' '10.53%.' '3.95%.' '2.63%.']\n",
      " ['19.13%.' '3.86%.' '0.02%.' '0.00%.' '76.98%.']]\n"
     ]
    }
   ],
   "source": [
    "vect_sum=[]\n",
    "for row in range(0,5):\n",
    "    sum=0\n",
    "    for col in range(0,5):\n",
    "        sum+=cm_after[row,col]\n",
    "    vect_sum.append(sum)\n",
    "\n",
    "cm=[]\n",
    "for i in range(0,5):\n",
    "    x=[] \n",
    "    for j in range(0,5):\n",
    "            x.append('{:.2%}.'.format(cm_after[i,j]/vect_sum[i]))\n",
    "    cm.append(x)  \n",
    "            \n",
    "Conf_matrix_perc=to_matrix(cm)\n",
    "print(Conf_matrix_perc)\n"
   ]
  },
  {
   "cell_type": "code",
   "execution_count": 16,
   "metadata": {},
   "outputs": [
    {
     "name": "stdout",
     "output_type": "stream",
     "text": [
      "Accuracy of Confusion Matrix after classification:90.39%\n"
     ]
    }
   ],
   "source": [
    "tot_ex=0\n",
    "for i in range(0,len(vect_sum)):\n",
    "    tot_ex+=vect_sum[i]\n",
    "    \n",
    "tot_diag=0    \n",
    "for row in range(0, len(cm_after)):\n",
    "    for col in range (0,len(cm_after)):\n",
    "        if row==col:\n",
    "            tot_diag+=cm_after[row,col]\n",
    "\n",
    "print(\"Accuracy of Confusion Matrix after classification:%.2f%%\" % (100*(tot_diag/tot_ex)))"
   ]
  },
  {
   "cell_type": "code",
   "execution_count": 17,
   "metadata": {},
   "outputs": [
    {
     "name": "stdout",
     "output_type": "stream",
     "text": [
      "[5. 5. 5. ... 5. 5. 5.]\n"
     ]
    }
   ],
   "source": [
    "y_train1=[]\n",
    "\n",
    "for elem in y_train:\n",
    "    tmp=dict[elem]\n",
    "    y_train1=np.append(y_train1, classes[tmp])\n",
    "    \n",
    "print(y_train1)"
   ]
  },
  {
   "cell_type": "code",
   "execution_count": 18,
   "metadata": {},
   "outputs": [],
   "source": [
    "#prima\n",
    "classifier= DecisionTreeClassifier(criterion='entropy') \n",
    "model=classifier.fit(X_train, y_train1)\n",
    "pred=classifier.predict(X_test)\n",
    "pred_train=classifier.predict(X_train)\n"
   ]
  },
  {
   "cell_type": "code",
   "execution_count": 19,
   "metadata": {},
   "outputs": [
    {
     "name": "stdout",
     "output_type": "stream",
     "text": [
      "Accuracy of Decision Tree classifier on train set before classification: 100.00%\n",
      "Accuracy of Decision Tree classifier on test set before classification: 92.38%\n"
     ]
    }
   ],
   "source": [
    "print(\"Accuracy of Decision Tree classifier on train set before classification: %.2f%%\" % (100*accuracy_score(y_train1, pred_train)))\n",
    "print(\"Accuracy of Decision Tree classifier on test set before classification: %.2f%%\" % (100*accuracy_score(y_test1, pred)))\n"
   ]
  },
  {
   "cell_type": "code",
   "execution_count": 20,
   "metadata": {},
   "outputs": [
    {
     "name": "stdout",
     "output_type": "stream",
     "text": [
      "[[ 59471    833     10      5    274]\n",
      " [  5542 224163      2      0    146]\n",
      " [ 11927      6    405   3367    484]\n",
      " [    69      0      5     21    133]\n",
      " [   699    154     24     11   3278]]\n"
     ]
    }
   ],
   "source": [
    "cm_before = confusion_matrix(y_test1, pred, labels=[5, 1, 3, 2, 4])\n",
    "print(cm_before)"
   ]
  },
  {
   "cell_type": "code",
   "execution_count": 21,
   "metadata": {},
   "outputs": [
    {
     "name": "stdout",
     "output_type": "stream",
     "text": [
      "[['98.15%.' '1.37%.' '0.02%.' '0.01%.' '0.45%.']\n",
      " ['2.41%.' '97.52%.' '0.00%.' '0.00%.' '0.06%.']\n",
      " ['73.67%.' '0.04%.' '2.50%.' '20.80%.' '2.99%.']\n",
      " ['30.26%.' '0.00%.' '2.19%.' '9.21%.' '58.33%.']\n",
      " ['16.78%.' '3.70%.' '0.58%.' '0.26%.' '78.68%.']]\n"
     ]
    }
   ],
   "source": [
    "vect_sum=[]\n",
    "for row in range(0,len(cm_before)):\n",
    "    sum=0\n",
    "    for col in range(0,5):\n",
    "        sum+=cm_before[row,col]\n",
    "    vect_sum.append(sum)\n",
    "\n",
    "cm=[]\n",
    "for i in range(0,len(cm_before)):\n",
    "    x=[] \n",
    "    for j in range(0,len(cm_before)):\n",
    "            x.append('{:.2%}.'.format(cm_before[i,j]/vect_sum[i]))\n",
    "    cm.append(x)  \n",
    "            \n",
    "Conf_matrix_perc=to_matrix(cm)\n",
    "print(Conf_matrix_perc)\n"
   ]
  },
  {
   "cell_type": "code",
   "execution_count": 22,
   "metadata": {},
   "outputs": [
    {
     "name": "stdout",
     "output_type": "stream",
     "text": [
      "Accuracy of Confusion Matrix before classification :92.38%\n"
     ]
    }
   ],
   "source": [
    "tot_ex=0\n",
    "for i in range(0,len(vect_sum)):\n",
    "    tot_ex+=vect_sum[i]\n",
    "    \n",
    "tot_diag=0    \n",
    "for row in range(0, len(cm_before)):\n",
    "    for col in range (0,len(cm_before)):\n",
    "        if row==col:\n",
    "            tot_diag+=cm_before[row,col]\n",
    "\n",
    "print(\"Accuracy of Confusion Matrix before classification :%.2f%%\" % (100*(tot_diag/tot_ex)))"
   ]
  }
 ],
 "metadata": {
  "kernelspec": {
   "display_name": "Python 3",
   "language": "python",
   "name": "python3"
  },
  "language_info": {
   "codemirror_mode": {
    "name": "ipython",
    "version": 3
   },
   "file_extension": ".py",
   "mimetype": "text/x-python",
   "name": "python",
   "nbconvert_exporter": "python",
   "pygments_lexer": "ipython3",
   "version": "3.6.4"
  }
 },
 "nbformat": 4,
 "nbformat_minor": 2
}
